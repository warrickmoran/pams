{
 "cells": [
  {
   "cell_type": "code",
   "execution_count": null,
   "metadata": {
    "ExecuteTime": {
     "end_time": "2020-03-24T16:32:00.336632Z",
     "start_time": "2020-03-24T16:32:00.300076Z"
    },
    "code_folding": []
   },
   "outputs": [],
   "source": [
    "import re\n",
    "import time\n",
    "\n",
    "start_time = time.time()\n",
    "\n",
    "with open('/Users/warrickmoran/Desktop/jupyter/ncf-nwws-nesdis.20191121-cs2-ancf') as file:\n",
    "    file_contents = file.read()\n",
    "    print(file_contents)"
   ]
  },
  {
   "cell_type": "code",
   "execution_count": null,
   "metadata": {
    "ExecuteTime": {
     "end_time": "2020-03-24T16:32:00.342058Z",
     "start_time": "2020-03-24T16:32:00.339915Z"
    }
   },
   "outputs": [],
   "source": [
    "regex= r\"^\\s.END (\\d{2}/\\d{2}/\\d{4}) (\\d{2}:\\d{2}:\\d{2}) WMO\\[((\\S{4}\\d{2}) (\\S{4}) (\\d{6})( \\S{3}|\\s{4}|\\*\\* no CR))\\] (\\{(\\S{4,6})\\s{0,2}?\\} )?\\#(\\d+)/\\d+ bytes\\((\\d+)\\) c\\(\\d+\\) .*/P(\\d)[\\n\\r]*\""
   ]
  },
  {
   "cell_type": "code",
   "execution_count": null,
   "metadata": {
    "ExecuteTime": {
     "end_time": "2020-03-24T16:32:04.341106Z",
     "start_time": "2020-03-24T16:32:00.412781Z"
    }
   },
   "outputs": [],
   "source": [
    "match = re.findall(regex, file_contents, re.MULTILINE)\n",
    "for item in match:\n",
    "    print(item)"
   ]
  },
  {
   "cell_type": "code",
   "execution_count": null,
   "metadata": {
    "ExecuteTime": {
     "end_time": "2020-03-24T16:32:04.489385Z",
     "start_time": "2020-03-24T16:32:04.354363Z"
    }
   },
   "outputs": [],
   "source": [
    "import csv\n",
    "\n",
    "with open('/Users/warrickmoran/Desktop/jupyter/ncf-nwws-nesdis.20191118-cs2-ancf.csv','w') as file:\n",
    "    writer = csv.writer(file, lineterminator='\\n')\n",
    "    val = [['date','time','wmo','cccc','createtime','nnnxxx','size']]\n",
    "    for item in match:\n",
    "        val.append([item[0], item[1], item[2], item[4], item[5], item[8], item[10]])\n",
    "    writer.writerows(val)\n"
   ]
  },
  {
   "cell_type": "code",
   "execution_count": null,
   "metadata": {
    "ExecuteTime": {
     "end_time": "2020-03-24T16:32:04.646429Z",
     "start_time": "2020-03-24T16:32:04.491758Z"
    },
    "code_folding": []
   },
   "outputs": [],
   "source": [
    "from tinydb import TinyDB, Query\n",
    "from tinydb.storages import MemoryStorage\n",
    "db = TinyDB(storage=MemoryStorage)\n",
    "products_table = db.table('products')\n",
    "cccc_table = db.table('cccc')\n",
    "\n",
    "#db = TinyDB('/home/warrick.moran/Downloads/drive-download-20200228T121647Z-001/db.json')\n",
    "timedict = []\n",
    "cccc = {}\n",
    "\n",
    "for item in match: \n",
    "    timedict.append({'date':item[0],'time':item[1],'wmo':item[2],'cccc':item[4],'createtime':item[5],'nnnxxx':item[8],'size':item[10]})\n",
    "    if item[4] not in cccc:\n",
    "        cccc[item[4]] = 0\n",
    "        cccc_table.insert({'cccc':item[4],'count':0})\n",
    "\n",
    "products_table.insert_multiple(timedict)\n",
    "\n",
    "print(products_table)"
   ]
  },
  {
   "cell_type": "code",
   "execution_count": null,
   "metadata": {
    "ExecuteTime": {
     "end_time": "2020-03-24T16:32:19.143436Z",
     "start_time": "2020-03-24T16:32:04.648461Z"
    }
   },
   "outputs": [],
   "source": [
    "from tinydb import where\n",
    "\n",
    "results = cccc_table.all()\n",
    "for result in results:\n",
    "    count = products_table.count(where('cccc') == result['cccc'])\n",
    "    cccc_table.update({'count':count}, where('cccc') == result['cccc'])\n",
    "    \n",
    "print(cccc_table)\n"
   ]
  },
  {
   "cell_type": "code",
   "execution_count": null,
   "metadata": {
    "ExecuteTime": {
     "end_time": "2020-03-24T16:36:03.425436Z",
     "start_time": "2020-03-24T16:36:03.384590Z"
    }
   },
   "outputs": [],
   "source": [
    "%matplotlib notebook\n",
    "import matplotlib.pyplot as plt\n",
    "\n",
    "x = [] \n",
    "y = []\n",
    "\n",
    "xy = cccc_table.all()\n",
    "\n",
    "for cccc in xy[0:10]:\n",
    "    x.append(cccc['cccc'])\n",
    "    y.append(cccc['count'])\n",
    "    \n",
    "\n",
    "x_pos = [i for i, _ in enumerate(x)]\n",
    "\n",
    "plt.bar(x_pos, y, color='green')\n",
    "plt.xticks(x_pos, x)\n",
    "plt.xlabel(\"NWS WFO WMO Identification\")\n",
    "plt.ylabel(\"Product Count\")\n",
    "plt.title(\"NWS Product Counts for NCF Uplink (20191121)\")\n",
    "plt.show()"
   ]
  },
  {
   "cell_type": "code",
   "execution_count": null,
   "metadata": {},
   "outputs": [],
   "source": []
  }
 ],
 "metadata": {
  "kernelspec": {
   "display_name": "Python 3",
   "language": "python",
   "name": "python3"
  },
  "language_info": {
   "codemirror_mode": {
    "name": "ipython",
    "version": 3
   },
   "file_extension": ".py",
   "mimetype": "text/x-python",
   "name": "python",
   "nbconvert_exporter": "python",
   "pygments_lexer": "ipython3",
   "version": "3.7.6"
  },
  "varInspector": {
   "cols": {
    "lenName": 16,
    "lenType": 16,
    "lenVar": 40
   },
   "kernels_config": {
    "python": {
     "delete_cmd_postfix": "",
     "delete_cmd_prefix": "del ",
     "library": "var_list.py",
     "varRefreshCmd": "print(var_dic_list())"
    },
    "r": {
     "delete_cmd_postfix": ") ",
     "delete_cmd_prefix": "rm(",
     "library": "var_list.r",
     "varRefreshCmd": "cat(var_dic_list()) "
    }
   },
   "position": {
    "height": "673px",
    "left": "1206px",
    "right": "20px",
    "top": "120px",
    "width": "437px"
   },
   "types_to_exclude": [
    "module",
    "function",
    "builtin_function_or_method",
    "instance",
    "_Feature"
   ],
   "window_display": false
  }
 },
 "nbformat": 4,
 "nbformat_minor": 2
}
