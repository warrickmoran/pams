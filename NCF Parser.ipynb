{
 "cells": [
  {
   "cell_type": "code",
   "execution_count": null,
   "metadata": {
    "ExecuteTime": {
     "end_time": "2020-04-07T20:11:54.948409Z",
     "start_time": "2020-04-07T20:11:54.921478Z"
    },
    "code_folding": []
   },
   "outputs": [],
   "source": [
    "import re\n",
    "\n",
    "with open('/Users/warrickmoran/Desktop/jupyter/ncf-nwws-nesdis.20191121-cs2-ancf') as file:\n",
    "    ncf_file_contents = file.read()\n",
    "    \n",
    "with open('/Users/warrickmoran/Desktop/jupyter/application.log.2019-11-18') as file:\n",
    "    euc_file_contents = file.read()"
   ]
  },
  {
   "cell_type": "code",
   "execution_count": null,
   "metadata": {
    "ExecuteTime": {
     "end_time": "2020-04-07T20:11:54.955004Z",
     "start_time": "2020-04-07T20:11:54.952149Z"
    }
   },
   "outputs": [],
   "source": [
    "ncf_regex= r\"^\\s.END (\\d{2}/\\d{2}/\\d{4}) (\\d{2}:\\d{2}:\\d{2}) WMO\\[((\\S{4}\\d{2}) (\\S{4}) (\\d{6})( \\S{3}|\\s{4}|\\*\\* no CR))\\] (\\{(\\S{4,6})\\s{0,2}?\\} )?\\#(\\d+)/\\d+ bytes\\((\\d+)\\) c\\(\\d+\\) .*/P(\\d)[\\n\\r]*\"\n",
    "euc_regex= r\"^.*\\[ArchiveController-Future\\].*(\\d\\d\\d\\d\\d\\d\\d\\d\\d\\d\\d\\d\\d\\d-\\d\\d\\d)\\s(\\w{4})\\s(\\w{6})\\s(\\w{4})\\s(\\d{6})\\s(\\w{3}(?:\\s))?(\\w{4,6})\\s.*txt\""
   ]
  },
  {
   "cell_type": "code",
   "execution_count": null,
   "metadata": {
    "ExecuteTime": {
     "end_time": "2020-04-07T20:11:55.134246Z",
     "start_time": "2020-04-07T20:11:54.962245Z"
    }
   },
   "outputs": [],
   "source": [
    "ncf_match = re.findall(ncf_regex, ncf_file_contents, re.MULTILINE)\n",
    "euc_match = re.findall(euc_regex, euc_file_contents, re.MULTILINE)\n",
    "#for item in match:\n",
    "#    print(item)"
   ]
  },
  {
   "cell_type": "code",
   "execution_count": null,
   "metadata": {
    "ExecuteTime": {
     "end_time": "2020-04-07T20:11:55.283727Z",
     "start_time": "2020-04-07T20:11:55.135936Z"
    }
   },
   "outputs": [],
   "source": [
    "import csv\n",
    "\n",
    "with open('/Users/warrickmoran/Desktop/jupyter/ncf-nwws-nesdis.20191118-cs2-ancf.csv','w') as file:\n",
    "    writer = csv.writer(file, lineterminator='\\n')\n",
    "    val = [['date','time','wmo','cccc','createtime','nnnxxx','size']]\n",
    "    for item in ncf_match:\n",
    "        val.append([item[0], item[1], item[2], item[4], item[5], item[8], item[10]])\n",
    "    writer.writerows(val)\n",
    "    \n",
    "\n",
    "with open('/Users/warrickmoran/Desktop/jupyter/application.log.2019-11-18.csv','w') as file:\n",
    "    writer = csv.writer(file, lineterminator='\\n')\n",
    "    val = [['date','time','wmo','cccc','createtime','nnnxxx']]\n",
    "    for item in euc_match:\n",
    "        # need to split into date and time\n",
    "        val.append([item[0][0:8], item[0][8:],item[2], item[3], item[4], item[6]])\n",
    "    writer.writerows(val)"
   ]
  },
  {
   "cell_type": "code",
   "execution_count": null,
   "metadata": {
    "ExecuteTime": {
     "end_time": "2020-04-07T20:11:55.499523Z",
     "start_time": "2020-04-07T20:11:55.285312Z"
    },
    "code_folding": []
   },
   "outputs": [],
   "source": [
    "from tinydb import TinyDB, Query\n",
    "from tinydb.storages import MemoryStorage\n",
    "db = TinyDB(storage=MemoryStorage)\n",
    "products_table = db.table('products')\n",
    "euc_table = db.table('euc')\n",
    "cccc_table = db.table('cccc')\n",
    "euc_cccc_table = db.table('euc_cccc')\n",
    "\n",
    "#db = TinyDB('/home/warrick.moran/Downloads/drive-download-20200228T121647Z-001/db.json')\n",
    "timedict = []\n",
    "cccc = {}\n",
    "\n",
    "for item in ncf_match: \n",
    "    timedict.append({'date':item[0],'time':item[1],'wmo':item[2],'cccc':item[4],'createtime':item[5],'nnnxxx':item[8],'size':item[10]})\n",
    "    if item[4] not in cccc:\n",
    "        cccc[item[4]] = 0\n",
    "        cccc_table.insert({'cccc':item[4],'count':0})\n",
    "        euc_cccc_table.insert({'cccc':item[4],'count':0})\n",
    "\n",
    "products_table.insert_multiple(timedict)\n",
    "\n",
    "del timedict\n",
    "timedict = []\n",
    "\n",
    "for item in euc_match:\n",
    "    timedict.append({'date':item[0][0:8],'time':item[0][8:],'wmo':item[2],'cccc':item[3],'createtime':item[4],'nnnxxx':item[6]})\n",
    "\n",
    "euc_table.insert_multiple(timedict)\n",
    "\n",
    "print(products_table)\n",
    "print(euc_table)"
   ]
  },
  {
   "cell_type": "code",
   "execution_count": null,
   "metadata": {
    "ExecuteTime": {
     "end_time": "2020-04-07T20:12:13.253451Z",
     "start_time": "2020-04-07T20:11:55.501482Z"
    }
   },
   "outputs": [],
   "source": [
    "from tinydb import where\n",
    "\n",
    "results = cccc_table.all()\n",
    "for result in results:\n",
    "    count = products_table.count(where('cccc') == result['cccc'])\n",
    "    cccc_table.update({'count':count}, where('cccc') == result['cccc'])\n",
    "    \n",
    "del results\n",
    "results = euc_cccc_table.all()\n",
    "\n",
    "for result in results:\n",
    "    euc_count = euc_table.count(where('cccc') == result['cccc'])\n",
    "    euc_cccc_table.update({'count':euc_count}, where('cccc') == result['cccc'])\n",
    "    \n",
    "print(cccc_table)\n",
    "print(euc_cccc_table)"
   ]
  },
  {
   "cell_type": "code",
   "execution_count": null,
   "metadata": {
    "ExecuteTime": {
     "end_time": "2020-04-07T20:12:27.964101Z",
     "start_time": "2020-04-07T20:12:27.834237Z"
    }
   },
   "outputs": [],
   "source": [
    "%matplotlib notebook\n",
    "import matplotlib.pyplot as plt\n",
    "\n",
    "x = [] \n",
    "y = []\n",
    "\n",
    "x1 = []\n",
    "y1 = []\n",
    "\n",
    "xy = cccc_table.all()\n",
    "\n",
    "x1y1 = euc_cccc_table.all()\n",
    "\n",
    "for cccc in xy[0:10]:\n",
    "    x.append(cccc['cccc'])\n",
    "    y.append(cccc['count'])\n",
    "\n",
    "for cccc in x1y1[0:10]:\n",
    "    x1.append(cccc['cccc'])\n",
    "    y1.append(cccc['count'])\n",
    "    \n",
    "\n",
    "x_pos = [i for i, _ in enumerate(x)]\n",
    "\n",
    "p1 = plt.bar(x_pos, y, color='green')\n",
    "p2 = plt.bar(x_pos, y1, color='blue')\n",
    "\n",
    "plt.xticks(x_pos, x)\n",
    "plt.xlabel(\"NWS WFO WMO Identification\")\n",
    "plt.ylabel(\"Product Count\")\n",
    "plt.title(\"NWS Product Counts for NCF Uplink (20191121)\")\n",
    "plt.legend((p1[0], p2[0]), ('NCF', 'EUC'))\n",
    "plt.show()\n",
    "plt.savefig('/Users/warrickmoran/Desktop/jupyter/ncf-nwws-nesdis.20191118-cs2-ancf.pdf')"
   ]
  },
  {
   "cell_type": "code",
   "execution_count": null,
   "metadata": {
    "ExecuteTime": {
     "end_time": "2020-04-07T00:08:52.991903Z",
     "start_time": "2020-04-07T00:08:52.985954Z"
    }
   },
   "outputs": [],
   "source": []
  },
  {
   "cell_type": "code",
   "execution_count": null,
   "metadata": {},
   "outputs": [],
   "source": []
  }
 ],
 "metadata": {
  "kernelspec": {
   "display_name": "Python 3",
   "language": "python",
   "name": "python3"
  },
  "language_info": {
   "codemirror_mode": {
    "name": "ipython",
    "version": 3
   },
   "file_extension": ".py",
   "mimetype": "text/x-python",
   "name": "python",
   "nbconvert_exporter": "python",
   "pygments_lexer": "ipython3",
   "version": "3.7.6"
  },
  "varInspector": {
   "cols": {
    "lenName": 16,
    "lenType": 16,
    "lenVar": 40
   },
   "kernels_config": {
    "python": {
     "delete_cmd_postfix": "",
     "delete_cmd_prefix": "del ",
     "library": "var_list.py",
     "varRefreshCmd": "print(var_dic_list())"
    },
    "r": {
     "delete_cmd_postfix": ") ",
     "delete_cmd_prefix": "rm(",
     "library": "var_list.r",
     "varRefreshCmd": "cat(var_dic_list()) "
    }
   },
   "position": {
    "height": "673px",
    "left": "1507px",
    "right": "20px",
    "top": "170px",
    "width": "745px"
   },
   "types_to_exclude": [
    "module",
    "function",
    "builtin_function_or_method",
    "instance",
    "_Feature"
   ],
   "window_display": true
  }
 },
 "nbformat": 4,
 "nbformat_minor": 2
}
